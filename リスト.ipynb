{
 "cells": [
  {
   "cell_type": "code",
   "execution_count": 5,
   "metadata": {},
   "outputs": [
    {
     "name": "stdout",
     "output_type": "stream",
     "text": [
      "[80, 60, 22, 50, 70]\n"
     ]
    }
   ],
   "source": [
    "sale = [80, 60, 22, 50, 70]\n",
    "print(sale)"
   ]
  },
  {
   "cell_type": "code",
   "execution_count": 6,
   "metadata": {},
   "outputs": [
    {
     "data": {
      "text/plain": [
       "[80, 60, 22, 50, 70]"
      ]
     },
     "execution_count": 6,
     "metadata": {},
     "output_type": "execute_result"
    }
   ],
   "source": [
    "sale"
   ]
  },
  {
   "cell_type": "code",
   "execution_count": 9,
   "metadata": {},
   "outputs": [
    {
     "name": "stdout",
     "output_type": "stream",
     "text": [
      "80\n",
      "60\n",
      "22\n",
      "50\n",
      "75\n",
      "リストの長さは 5 です。\n"
     ]
    }
   ],
   "source": [
    "sale = [80, 60, 22, 50, 75]\n",
    "print(sale[0])\n",
    "print(sale[1])\n",
    "print(sale[2])\n",
    "print(sale[3])\n",
    "print(sale[4])\n",
    "print(\"リストの長さは\", len(sale), \"です。\")"
   ]
  },
  {
   "cell_type": "markdown",
   "metadata": {},
   "source": [
    "# リストの長さを知る"
   ]
  },
  {
   "cell_type": "code",
   "execution_count": 10,
   "metadata": {},
   "outputs": [
    {
     "name": "stdout",
     "output_type": "stream",
     "text": [
      "75\n"
     ]
    }
   ],
   "source": [
    "print(sale[len(sale)-1])"
   ]
  },
  {
   "cell_type": "markdown",
   "metadata": {},
   "source": [
    "# 繰り返し文で扱う"
   ]
  },
  {
   "cell_type": "code",
   "execution_count": 13,
   "metadata": {},
   "outputs": [
    {
     "name": "stdout",
     "output_type": "stream",
     "text": [
      "80.60.22.50.75."
     ]
    }
   ],
   "source": [
    "sale = [80, 60, 22, 50, 75]\n",
    "for s in sale:\n",
    "    print(s, end=\".\")"
   ]
  },
  {
   "cell_type": "code",
   "execution_count": 16,
   "metadata": {},
   "outputs": [
    {
     "name": "stdout",
     "output_type": "stream",
     "text": [
      "80.60.22.50.75."
     ]
    }
   ],
   "source": [
    "for i in range(5):\n",
    "    print(sale[i], end=\".\")"
   ]
  },
  {
   "cell_type": "code",
   "execution_count": 17,
   "metadata": {},
   "outputs": [
    {
     "name": "stdout",
     "output_type": "stream",
     "text": [
      "80.60.22.50.75."
     ]
    }
   ],
   "source": [
    "for i in range(len(sale)):\n",
    "    print(sale[i], end=\".\")"
   ]
  },
  {
   "cell_type": "code",
   "execution_count": 20,
   "metadata": {},
   "outputs": [
    {
     "name": "stdout",
     "output_type": "stream",
     "text": [
      "80.60.22.50.75."
     ]
    }
   ],
   "source": [
    "#sale = [80, 60, 22, 50, 75]\n",
    "for s in [80, 60, 22, 50, 75]:\n",
    "    print(s, end=\".\")"
   ]
  },
  {
   "cell_type": "markdown",
   "metadata": {},
   "source": [
    "# リストを代入する"
   ]
  },
  {
   "cell_type": "code",
   "execution_count": 21,
   "metadata": {},
   "outputs": [
    {
     "name": "stdout",
     "output_type": "stream",
     "text": [
      "data1は [1, 2, 3, 4, 5]\n",
      "data2は [1, 2, 3, 4, 5]\n",
      "data1を変更します\n",
      "data1は [10, 2, 3, 4, 5] です\n",
      "data2は [10, 2, 3, 4, 5] です\n"
     ]
    }
   ],
   "source": [
    "data1 = [1, 2, 3, 4, 5]\n",
    "data2 = data1\n",
    "\n",
    "print(\"data1は\", data1)\n",
    "print(\"data2は\", data2)\n",
    "\n",
    "data1[0] = 10\n",
    "\n",
    "print(\"data1を変更します\")\n",
    "print(\"data1は\", data1, \"です\")\n",
    "print(\"data2は\", data2, \"です\")"
   ]
  },
  {
   "cell_type": "code",
   "execution_count": 22,
   "metadata": {},
   "outputs": [
    {
     "data": {
      "text/plain": [
       "140667899616776"
      ]
     },
     "execution_count": 22,
     "metadata": {},
     "output_type": "execute_result"
    }
   ],
   "source": [
    "id(data1)"
   ]
  },
  {
   "cell_type": "code",
   "execution_count": 23,
   "metadata": {},
   "outputs": [
    {
     "data": {
      "text/plain": [
       "140667899616776"
      ]
     },
     "execution_count": 23,
     "metadata": {},
     "output_type": "execute_result"
    }
   ],
   "source": [
    "id(data2)"
   ]
  },
  {
   "cell_type": "code",
   "execution_count": 24,
   "metadata": {
    "scrolled": true
   },
   "outputs": [
    {
     "name": "stdout",
     "output_type": "stream",
     "text": [
      "data1は [1, 2, 3, 4, 5]\n",
      "data2は [1, 2, 3, 4, 5]\n",
      "data1を変更します\n",
      "data1は [10, 2, 3, 4, 5] です\n",
      "data2は [1, 2, 3, 4, 5] です\n"
     ]
    }
   ],
   "source": [
    "data1 = [1, 2, 3, 4, 5]\n",
    "data2 = list(data1)\n",
    "\n",
    "print(\"data1は\", data1)\n",
    "print(\"data2は\", data2)\n",
    "\n",
    "data1[0] = 10\n",
    "\n",
    "print(\"data1を変更します\")\n",
    "print(\"data1は\", data1, \"です\")\n",
    "print(\"data2は\", data2, \"です\")"
   ]
  },
  {
   "cell_type": "code",
   "execution_count": 25,
   "metadata": {},
   "outputs": [
    {
     "name": "stdout",
     "output_type": "stream",
     "text": [
      "data1は [1, 2, 3, 4, 5]\n",
      "data2は [1, 2, 3, 4, 5]\n",
      "data1を変更します\n",
      "data1は [10, 2, 3, 4, 5] です\n",
      "data2は [1, 2, 3, 4, 5] です\n"
     ]
    }
   ],
   "source": [
    "data1 = [1, 2, 3, 4, 5]\n",
    "#data2 = list(data1)\n",
    "data2 = data1.copy()\n",
    "\n",
    "print(\"data1は\", data1)\n",
    "print(\"data2は\", data2)\n",
    "\n",
    "data1[0] = 10\n",
    "\n",
    "print(\"data1を変更します\")\n",
    "print(\"data1は\", data1, \"です\")\n",
    "print(\"data2は\", data2, \"です\")"
   ]
  },
  {
   "cell_type": "markdown",
   "metadata": {},
   "source": [
    "# コンストラクター"
   ]
  },
  {
   "cell_type": "code",
   "execution_count": 27,
   "metadata": {},
   "outputs": [
    {
     "data": {
      "text/plain": [
       "[]"
      ]
     },
     "execution_count": 27,
     "metadata": {},
     "output_type": "execute_result"
    }
   ],
   "source": [
    "data = list()\n",
    "data"
   ]
  },
  {
   "cell_type": "code",
   "execution_count": 28,
   "metadata": {},
   "outputs": [
    {
     "data": {
      "text/plain": [
       "[]"
      ]
     },
     "execution_count": 28,
     "metadata": {},
     "output_type": "execute_result"
    }
   ],
   "source": [
    "data = []\n",
    "data"
   ]
  },
  {
   "cell_type": "code",
   "execution_count": null,
   "metadata": {},
   "outputs": [],
   "source": []
  }
 ],
 "metadata": {
  "kernelspec": {
   "display_name": "Python 3",
   "language": "python",
   "name": "python3"
  },
  "language_info": {
   "codemirror_mode": {
    "name": "ipython",
    "version": 3
   },
   "file_extension": ".py",
   "mimetype": "text/x-python",
   "name": "python",
   "nbconvert_exporter": "python",
   "pygments_lexer": "ipython3",
   "version": "3.6.10"
  }
 },
 "nbformat": 4,
 "nbformat_minor": 4
}
