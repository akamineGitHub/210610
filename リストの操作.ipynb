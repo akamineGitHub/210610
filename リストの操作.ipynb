{
 "cells": [
  {
   "cell_type": "code",
   "execution_count": 1,
   "metadata": {},
   "outputs": [
    {
     "name": "stdout",
     "output_type": "stream",
     "text": [
      "何番のデータを変更しますか？0\n",
      "変更後のデータを入力してください。10\n",
      "0 番のデータ 80 を変更します\n",
      "0 番のデータは 10 に変更されました。\n"
     ]
    }
   ],
   "source": [
    "sale = [80, 60, 22, 50, 75]\n",
    "\n",
    "i = int(input(\"何番のデータを変更しますか？\"))\n",
    "num = int(input(\"変更後のデータを入力してください。\"))\n",
    "\n",
    "print(i, \"番のデータ\", sale[i], \"を変更します\")\n",
    "\n",
    "sale[i] = num\n",
    "\n",
    "print(i, \"番のデータは\", sale[i], \"に変更されました。\")"
   ]
  },
  {
   "cell_type": "code",
   "execution_count": 2,
   "metadata": {},
   "outputs": [
    {
     "data": {
      "text/plain": [
       "[10, 60, 22, 50, 75]"
      ]
     },
     "execution_count": 2,
     "metadata": {},
     "output_type": "execute_result"
    }
   ],
   "source": [
    "sale"
   ]
  },
  {
   "cell_type": "code",
   "execution_count": 7,
   "metadata": {},
   "outputs": [
    {
     "data": {
      "text/plain": [
       "[6, 60, 22, 50, 75]"
      ]
     },
     "execution_count": 7,
     "metadata": {},
     "output_type": "execute_result"
    }
   ],
   "source": [
    "sale = [80, 60, 22, 50, 75]\n",
    "num = 6\n",
    "sale[0] = num\n",
    "sale"
   ]
  },
  {
   "cell_type": "markdown",
   "metadata": {},
   "source": [
    "# リストに要素を追加・挿入"
   ]
  },
  {
   "cell_type": "code",
   "execution_count": 3,
   "metadata": {},
   "outputs": [
    {
     "name": "stdout",
     "output_type": "stream",
     "text": [
      "現在のデータは [80, 60, 22, 50, 75] です。\n",
      "末尾に100を追加します\n",
      "現在のデータは [80, 60, 22, 50, 75, 100] です。\n",
      "sale[2]に25を挿入します\n",
      "現在のデータは [80, 60, 25, 22, 50, 75, 100] です。\n"
     ]
    }
   ],
   "source": [
    "sale = [80, 60, 22, 50, 75]\n",
    "\n",
    "print(\"現在のデータは\", sale, \"です。\")\n",
    "\n",
    "print(\"末尾に100を追加します\")\n",
    "sale.append(100)\n",
    "print(\"現在のデータは\", sale, \"です。\")\n",
    "sale = [80, 60, 22, 50, 75]\n",
    "print(\"sale[2]に25を挿入します\")\n",
    "sale.insert(2, 25)\n",
    "print(\"現在のデータは\", sale, \"です。\")"
   ]
  },
  {
   "cell_type": "markdown",
   "metadata": {},
   "source": [
    "# リストの削除"
   ]
  },
  {
   "cell_type": "code",
   "execution_count": 4,
   "metadata": {},
   "outputs": [
    {
     "name": "stdout",
     "output_type": "stream",
     "text": [
      "現在のデータは [80, 60, 22, 50, 75] です。\n",
      "先頭のデータを削除します\n",
      "現在のデータは [60, 22, 50, 75] です。\n",
      "22を削除します\n",
      "現在のデータは [60, 50, 75] です。\n"
     ]
    }
   ],
   "source": [
    "sale = [80, 60, 22, 50, 75]\n",
    "\n",
    "print(\"現在のデータは\", sale, \"です。\")\n",
    "\n",
    "print(\"先頭のデータを削除します\")\n",
    "del sale[0]\n",
    "print(\"現在のデータは\", sale, \"です。\")\n",
    "\n",
    "print(\"22を削除します\")\n",
    "sale.remove(22)\n",
    "print(\"現在のデータは\", sale, \"です。\")"
   ]
  },
  {
   "cell_type": "code",
   "execution_count": 5,
   "metadata": {},
   "outputs": [],
   "source": [
    "del sale"
   ]
  },
  {
   "cell_type": "code",
   "execution_count": 6,
   "metadata": {},
   "outputs": [
    {
     "ename": "NameError",
     "evalue": "name 'sale' is not defined",
     "output_type": "error",
     "traceback": [
      "\u001b[0;31m--------------------------------------------------------------------------\u001b[0m",
      "\u001b[0;31mNameError\u001b[0m                                Traceback (most recent call last)",
      "\u001b[0;32m<ipython-input-6-dfb96ea01189>\u001b[0m in \u001b[0;36m<module>\u001b[0;34m\u001b[0m\n\u001b[0;32m----> 1\u001b[0;31m \u001b[0msale\u001b[0m\u001b[0;34m\u001b[0m\u001b[0;34m\u001b[0m\u001b[0m\n\u001b[0m",
      "\u001b[0;31mNameError\u001b[0m: name 'sale' is not defined"
     ]
    }
   ],
   "source": [
    "\n"
   ]
  },
  {
   "cell_type": "markdown",
   "metadata": {},
   "source": [
    "# リストの作成　range()を使う"
   ]
  },
  {
   "cell_type": "code",
   "execution_count": 8,
   "metadata": {},
   "outputs": [
    {
     "data": {
      "text/plain": [
       "[1, 2, 3, 4, 5, 6]"
      ]
     },
     "execution_count": 8,
     "metadata": {},
     "output_type": "execute_result"
    }
   ],
   "source": [
    "sale1 = list(range(1,7))\n",
    "sale1\n",
    "            "
   ]
  },
  {
   "cell_type": "code",
   "execution_count": 9,
   "metadata": {},
   "outputs": [
    {
     "data": {
      "text/plain": [
       "[7, 8, 9, 10, 11]"
      ]
     },
     "execution_count": 9,
     "metadata": {},
     "output_type": "execute_result"
    }
   ],
   "source": [
    "sale2 = list (range(7,12))\n",
    "sale2"
   ]
  },
  {
   "cell_type": "code",
   "execution_count": null,
   "metadata": {},
   "outputs": [],
   "source": []
  }
 ],
 "metadata": {
  "kernelspec": {
   "display_name": "Python 3",
   "language": "python",
   "name": "python3"
  },
  "language_info": {
   "codemirror_mode": {
    "name": "ipython",
    "version": 3
   },
   "file_extension": ".py",
   "mimetype": "text/x-python",
   "name": "python",
   "nbconvert_exporter": "python",
   "pygments_lexer": "ipython3",
   "version": "3.6.10"
  }
 },
 "nbformat": 4,
 "nbformat_minor": 4
}
