{
 "cells": [
  {
   "cell_type": "code",
   "execution_count": 3,
   "metadata": {},
   "outputs": [
    {
     "name": "stdout",
     "output_type": "stream",
     "text": [
      "現在のデータは {'京都', '福岡', '大阪', '東京', '名古屋'} です\n",
      "追加するデータを入力してください北海道\n",
      "北海道 を追加しました\n",
      "現在のデータ {'京都', '福岡', '大阪', '北海道', '東京', '名古屋'} です\n",
      "削除するデータを入力してください大阪\n",
      "大阪 を削除しました\n",
      "現在のデータは {'京都', '福岡', '北海道', '東京', '名古屋'} です\n"
     ]
    }
   ],
   "source": [
    "city = {\"東京\", \"名古屋\", \"京都\", \"大阪\", \"福岡\"}\n",
    "print(\"現在のデータは\", city, \"です\")\n",
    "\n",
    "d = input(\"追加するデータを入力してください\")\n",
    "if d in city:\n",
    "    print(d, \"はすでに存在しています\")\n",
    "else:\n",
    "    city.add(d)\n",
    "    print(d, \"を追加しました\")\n",
    "print(\"現在のデータ\", city, \"です\")\n",
    "\n",
    "d = input(\"削除するデータを入力してください\")\n",
    "if d in city:\n",
    "    city.remove(d)\n",
    "    print(d, \"を削除しました\")\n",
    "else:\n",
    "    print(d, \"は見つかりませんでした\")\n",
    "print(\"現在のデータは\", city, \"です\")"
   ]
  },
  {
   "cell_type": "markdown",
   "metadata": {},
   "source": [
    "# 集合演算"
   ]
  },
  {
   "cell_type": "code",
   "execution_count": 4,
   "metadata": {},
   "outputs": [
    {
     "name": "stdout",
     "output_type": "stream",
     "text": [
      "Aの都市名は {'京都', '福岡', '大阪', '東京', '名古屋'} です\n",
      "Bの都市名は {'京都', '福岡', '大阪'} です\n",
      "共通するデータは {'京都', '福岡', '大阪'} です\n",
      "Aのみのデータは {'東京', '名古屋'} です\n",
      "Bのみのデータは set() です\n",
      "すべてのデータは {'京都', '東京', '名古屋', '福岡', '大阪'} です\n"
     ]
    }
   ],
   "source": [
    "cityA = {\"東京\", \"名古屋\", \"京都\", \"大阪\", \"福岡\"}\n",
    "cityB = {\"京都\", \"大阪\", \"福岡\"}\n",
    "\n",
    "print(\"Aの都市名は\", cityA, \"です\")\n",
    "print(\"Bの都市名は\", cityB, \"です\")\n",
    "\n",
    "print(\"共通するデータは\", cityA & cityB, \"です\")\n",
    "print(\"Aのみのデータは\", cityA - cityB, \"です\")\n",
    "print(\"Bのみのデータは\", cityB - cityA, \"です\")\n",
    "print(\"すべてのデータは\", cityA | cityB, \"です\")"
   ]
  },
  {
   "cell_type": "code",
   "execution_count": 17,
   "metadata": {},
   "outputs": [
    {
     "name": "stdout",
     "output_type": "stream",
     "text": [
      "これはディクショナリです\n"
     ]
    },
    {
     "data": {
      "text/plain": [
       "dict"
      ]
     },
     "execution_count": 17,
     "metadata": {},
     "output_type": "execute_result"
    }
   ],
   "source": [
    "data = {}\n",
    "print(\"これはディクショナリです\")\n",
    "type(data)"
   ]
  },
  {
   "cell_type": "code",
   "execution_count": 16,
   "metadata": {},
   "outputs": [
    {
     "name": "stdout",
     "output_type": "stream",
     "text": [
      "これはセットです\n"
     ]
    },
    {
     "data": {
      "text/plain": [
       "set"
      ]
     },
     "execution_count": 16,
     "metadata": {},
     "output_type": "execute_result"
    }
   ],
   "source": [
    "data = {\"みかん\"}\n",
    "print(\"これはセットです\")\n",
    "type(data)"
   ]
  },
  {
   "cell_type": "code",
   "execution_count": 15,
   "metadata": {},
   "outputs": [
    {
     "name": "stdout",
     "output_type": "stream",
     "text": [
      "これはディクショナリです\n"
     ]
    },
    {
     "data": {
      "text/plain": [
       "dict"
      ]
     },
     "execution_count": 15,
     "metadata": {},
     "output_type": "execute_result"
    }
   ],
   "source": [
    "data = {\"みかん\": 30}\n",
    "print(\"これはディクショナリです\")\n",
    "type(data)"
   ]
  },
  {
   "cell_type": "code",
   "execution_count": 14,
   "metadata": {},
   "outputs": [
    {
     "name": "stdout",
     "output_type": "stream",
     "text": [
      "これはタプルです\n"
     ]
    },
    {
     "data": {
      "text/plain": [
       "tuple"
      ]
     },
     "execution_count": 14,
     "metadata": {},
     "output_type": "execute_result"
    }
   ],
   "source": [
    "data = (\"東京\", \"大阪\", \"名古屋\")\n",
    "print(\"これはタプルです\")\n",
    "type(data)"
   ]
  },
  {
   "cell_type": "code",
   "execution_count": 13,
   "metadata": {},
   "outputs": [
    {
     "name": "stdout",
     "output_type": "stream",
     "text": [
      "これはリストです\n"
     ]
    },
    {
     "data": {
      "text/plain": [
       "list"
      ]
     },
     "execution_count": 13,
     "metadata": {},
     "output_type": "execute_result"
    }
   ],
   "source": [
    "data = [74, 85, 69, 77, 81]\n",
    "print(\"これはリストです\")\n",
    "type(data)"
   ]
  },
  {
   "cell_type": "code",
   "execution_count": 11,
   "metadata": {},
   "outputs": [
    {
     "name": "stdout",
     "output_type": "stream",
     "text": [
      "data[key3]は存在しません\n"
     ]
    }
   ],
   "source": [
    "data = {\"key1\": 30, \"key2\": 40}\n",
    "print(\"data[key3]は存在しません\")"
   ]
  },
  {
   "cell_type": "code",
   "execution_count": 20,
   "metadata": {},
   "outputs": [
    {
     "name": "stdout",
     "output_type": "stream",
     "text": [
      "タプルは要素を変更することができません\n"
     ]
    }
   ],
   "source": [
    "data = (\"東京\", \"大阪\", \"名古屋\")\n",
    "type(data)\n",
    "print(\"タプルは要素を変更することができません\")"
   ]
  },
  {
   "cell_type": "code",
   "execution_count": 23,
   "metadata": {},
   "outputs": [
    {
     "name": "stdout",
     "output_type": "stream",
     "text": [
      "要素はインデックス４までしかありません\n"
     ]
    }
   ],
   "source": [
    "data = [74, 85, 69, 77, 81]\n",
    "print(\"要素はインデックス４までしかありません\")"
   ]
  },
  {
   "cell_type": "code",
   "execution_count": 25,
   "metadata": {},
   "outputs": [
    {
     "name": "stdout",
     "output_type": "stream",
     "text": [
      "セットはキーを指定することはできません\n"
     ]
    }
   ],
   "source": [
    "data = {\"東京\", \"大阪\", \"名古屋\"}\n",
    "type(data)\n",
    "print(\"セットはキーを指定することはできません\")"
   ]
  },
  {
   "cell_type": "code",
   "execution_count": null,
   "metadata": {},
   "outputs": [],
   "source": []
  }
 ],
 "metadata": {
  "kernelspec": {
   "display_name": "Python 3",
   "language": "python",
   "name": "python3"
  },
  "language_info": {
   "codemirror_mode": {
    "name": "ipython",
    "version": 3
   },
   "file_extension": ".py",
   "mimetype": "text/x-python",
   "name": "python",
   "nbconvert_exporter": "python",
   "pygments_lexer": "ipython3",
   "version": "3.6.10"
  }
 },
 "nbformat": 4,
 "nbformat_minor": 4
}
