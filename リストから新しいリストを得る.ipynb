{
 "cells": [
  {
   "cell_type": "markdown",
   "metadata": {},
   "source": [
    "# リスト内表記（コンプリヘンション）"
   ]
  },
  {
   "cell_type": "code",
   "execution_count": 8,
   "metadata": {},
   "outputs": [
    {
     "name": "stdout",
     "output_type": "stream",
     "text": [
      "現在のデータは [1, 2, 3, 4, 5] です\n",
      "新しいデータは [2, 4, 8, 10] です\n"
     ]
    }
   ],
   "source": [
    "ata = [1,2,3,4,5]\n",
    "print(\"現在のデータは\", data, \"です\" )\n",
    "\n",
    "ndata = [n*2 for n in data if n!=3]\n",
    "print(\"新しいデータは\", ndata, \"です\")"
   ]
  },
  {
   "cell_type": "code",
   "execution_count": 6,
   "metadata": {},
   "outputs": [
    {
     "data": {
      "text/plain": [
       "[2, 4, 8, 10]"
      ]
     },
     "execution_count": 6,
     "metadata": {},
     "output_type": "execute_result"
    }
   ],
   "source": [
    "ndata = []\n",
    "for n in data:\n",
    "    if n != 3:\n",
    "        ndata.append(n*2)\n",
    "ndata\n",
    "# 上記のほうが早く処理される　"
   ]
  },
  {
   "cell_type": "markdown",
   "metadata": {},
   "source": [
    "# リストの集計と並べ替え"
   ]
  },
  {
   "cell_type": "code",
   "execution_count": 12,
   "metadata": {},
   "outputs": [
    {
     "name": "stdout",
     "output_type": "stream",
     "text": [
      "現在のデータは [80, 60, 22, 50, 75] です\n",
      "最大のデータは 80 です\n",
      "最小のデータは 22 です\n",
      "データの合計は 287 です\n",
      "データの平均は 57.4 です\n",
      "ソートされたエータは [22, 50, 60, 75, 80] です\n",
      "ソートされたデータは [80, 75, 60, 50, 22] です\n"
     ]
    }
   ],
   "source": [
    "sale =[ 80, 60, 22, 50, 75]\n",
    "print(\"現在のデータは\", sale, \"です\")\n",
    "\n",
    "print(\"最大のデータは\", max(sale), \"です\")\n",
    "print(\"最小のデータは\", min(sale), \"です\")\n",
    "\n",
    "print(\"データの合計は\", sum(sale), \"です\")\n",
    "print(\"データの平均は\", sum(sale)/len(sale), \"です\")\n",
    "print(\"ソートされたエータは\", sorted(sale), \"です\")\n",
    "print(\"ソートされたデータは\", sorted(sale, reverse=True), \"です\")"
   ]
  },
  {
   "cell_type": "markdown",
   "metadata": {},
   "source": [
    "# 多次元リスト"
   ]
  },
  {
   "cell_type": "code",
   "execution_count": 16,
   "metadata": {},
   "outputs": [
    {
     "name": "stdout",
     "output_type": "stream",
     "text": [
      "現在のデータは [['東京', 32, 25], ['名古屋', 28, 21], ['大阪', 27, 20], ['京都', 26, 19], ['福岡', 27, 22]] です\n",
      "都市別データは ['東京', 32, 25] です\n",
      "東京\t32\t25\t\n",
      "都市別データは ['名古屋', 28, 21] です\n",
      "名古屋\t28\t21\t\n",
      "都市別データは ['大阪', 27, 20] です\n",
      "大阪\t27\t20\t\n",
      "都市別データは ['京都', 26, 19] です\n",
      "京都\t26\t19\t\n",
      "都市別データは ['福岡', 27, 22] です\n",
      "福岡\t27\t22\t\n",
      "東京 の最高気温は 32 最低気温は 25 です\n"
     ]
    }
   ],
   "source": [
    "data = [\n",
    "    [\"東京\", 32, 25],\n",
    "    [\"名古屋\", 28, 21],\n",
    "    [\"大阪\", 27, 20],\n",
    "    [\"京都\", 26, 19],\n",
    "    [\"福岡\", 27, 22],\n",
    "]\n",
    "\n",
    "print(\"現在のデータは\", data, \"です\")\n",
    "\n",
    "for dat in data:\n",
    "    print(\"都市別データは\", dat, \"です\")\n",
    "    for d in dat:\n",
    "        print(d, end=\"\\t\")\n",
    "    print()\n",
    "\n",
    "print(data[0][0], \"の最高気温は\", data[0][1], \"最低気温は\", data[0][2], \"です\")"
   ]
  },
  {
   "cell_type": "code",
   "execution_count": 18,
   "metadata": {},
   "outputs": [
    {
     "data": {
      "text/plain": [
       "[['東京', 32, 25],\n",
       " ['名古屋', 28, 21],\n",
       " ['大阪', 27, 20],\n",
       " ['京都', 26, 19],\n",
       " ['福岡', 27, 22]]"
      ]
     },
     "execution_count": 18,
     "metadata": {},
     "output_type": "execute_result"
    }
   ],
   "source": [
    "data"
   ]
  },
  {
   "cell_type": "code",
   "execution_count": 19,
   "metadata": {},
   "outputs": [
    {
     "data": {
      "text/plain": [
       "['東京', 32, 25]"
      ]
     },
     "execution_count": 19,
     "metadata": {},
     "output_type": "execute_result"
    }
   ],
   "source": [
    "data[0]"
   ]
  },
  {
   "cell_type": "code",
   "execution_count": 20,
   "metadata": {},
   "outputs": [
    {
     "data": {
      "text/plain": [
       "32"
      ]
     },
     "execution_count": 20,
     "metadata": {},
     "output_type": "execute_result"
    }
   ],
   "source": [
    "data[0][1]"
   ]
  },
  {
   "cell_type": "code",
   "execution_count": 21,
   "metadata": {},
   "outputs": [
    {
     "data": {
      "text/plain": [
       "25"
      ]
     },
     "execution_count": 21,
     "metadata": {},
     "output_type": "execute_result"
    }
   ],
   "source": [
    "data[0][2]"
   ]
  },
  {
   "cell_type": "code",
   "execution_count": 22,
   "metadata": {},
   "outputs": [
    {
     "data": {
      "text/plain": [
       "['名古屋', 28, 21]"
      ]
     },
     "execution_count": 22,
     "metadata": {},
     "output_type": "execute_result"
    }
   ],
   "source": [
    "data[1]"
   ]
  },
  {
   "cell_type": "markdown",
   "metadata": {},
   "source": [
    "# 練習問題"
   ]
  },
  {
   "cell_type": "code",
   "execution_count": 2,
   "metadata": {},
   "outputs": [
    {
     "name": "stdout",
     "output_type": "stream",
     "text": [
      "テストの点は[74, 85, 69, 77.81]\n",
      "最高点は 85 です\n",
      "最低点は 69 です\n",
      "平均点は 77.2 です\n"
     ]
    }
   ],
   "source": [
    "data = [74, 85, 69, 77, 81]\n",
    "print(\"テストの点は[74, 85, 69, 77.81]\")\n",
    "print(\"最高点は\", max(data), \"です\")\n",
    "print(\"最低点は\", min(data), \"です\")\n",
    "print(\"平均点は\", sum(data)/len(data), \"です\")"
   ]
  },
  {
   "cell_type": "code",
   "execution_count": 3,
   "metadata": {},
   "outputs": [
    {
     "name": "stdout",
     "output_type": "stream",
     "text": [
      "テストの点は[74, 85, 69, 77, 81]です\n",
      "昇順は [69, 74, 77, 81, 85] です\n",
      "降順は [85, 81, 77, 74, 69] です\n"
     ]
    }
   ],
   "source": [
    "data = [74, 85, 69, 77, 81]\n",
    "print(\"テストの点は\", data, \"です\")\n",
    "print(\"昇順は\", sorted(data, reverse=False), \"です\")\n",
    "print(\"降順は\", sorted(data, reverse=True), \"です\")"
   ]
  },
  {
   "cell_type": "code",
   "execution_count": 4,
   "metadata": {},
   "outputs": [
    {
     "name": "stdout",
     "output_type": "stream",
     "text": [
      "テストの点は[74, 85, 69, 77, 81]です\n",
      "80点以上は [85, 81] です\n",
      "80点以上の人数は 2 です\n"
     ]
    }
   ],
   "source": [
    "data = [74, 85, 69, 77, 81]\n",
    "print(\"テストの点は[74, 85, 69, 77, 81]です\")\n",
    "\n",
    "score = [n for n in data if n >= 80]\n",
    "\n",
    "print(\"80点以上は\", score, \"です\")\n",
    "print(\"80点以上の人数は\", len(score), \"です\")"
   ]
  },
  {
   "cell_type": "code",
   "execution_count": 5,
   "metadata": {},
   "outputs": [
    {
     "name": "stdout",
     "output_type": "stream",
     "text": [
      "都市名のデータは ['東京', '名古屋', '大阪', '京都', '福岡'] です\n",
      "最高気温のデータは [32, 28, 27, 26, 27] です\n",
      "最低気温のデータは [25, 21, 20, 19, 22] です\n",
      "東京 の最高気温は x 最低気温は 25 です\n",
      "名古屋 の最高気温は x 最低気温は 21 です\n",
      "大阪 の最高気温は x 最低気温は 20 です\n",
      "京都 の最高気温は x 最低気温は 19 です\n",
      "福岡 の最高気温は x 最低気温は 22 です\n"
     ]
    }
   ],
   "source": [
    "city = [\"東京\", \"名古屋\", \"大阪\", \"京都\", \"福岡\"]\n",
    "maxt = [32, 28, 27, 26, 27]\n",
    "mint = [25, 21, 20, 19, 22]\n",
    "\n",
    "print(\"都市名のデータは\", city, \"です\")\n",
    "print(\"最高気温のデータは\", maxt, \"です\")\n",
    "print(\"最低気温のデータは\", mint, \"です\")\n",
    "\n",
    "for c, x, i in zip(city, maxt, mint):\n",
    "        print(c, \"の最高気温は\", \"x\", \"最低気温は\", i, \"です\")"
   ]
  },
  {
   "cell_type": "code",
   "execution_count": null,
   "metadata": {},
   "outputs": [],
   "source": []
  }
 ],
 "metadata": {
  "kernelspec": {
   "display_name": "Python 3",
   "language": "python",
   "name": "python3"
  },
  "language_info": {
   "codemirror_mode": {
    "name": "ipython",
    "version": 3
   },
   "file_extension": ".py",
   "mimetype": "text/x-python",
   "name": "python",
   "nbconvert_exporter": "python",
   "pygments_lexer": "ipython3",
   "version": "3.6.10"
  }
 },
 "nbformat": 4,
 "nbformat_minor": 4
}
