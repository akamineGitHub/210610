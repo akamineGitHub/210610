{
 "cells": [
  {
   "cell_type": "markdown",
   "metadata": {},
   "source": [
    "# ディクショナリー"
   ]
  },
  {
   "cell_type": "code",
   "execution_count": 5,
   "metadata": {},
   "outputs": [
    {
     "data": {
      "text/plain": [
       "{}"
      ]
     },
     "execution_count": 5,
     "metadata": {},
     "output_type": "execute_result"
    }
   ],
   "source": [
    "sale = {}\n",
    "sale"
   ]
  },
  {
   "cell_type": "code",
   "execution_count": 9,
   "metadata": {},
   "outputs": [
    {
     "name": "stdout",
     "output_type": "stream",
     "text": [
      "どの支店のデータを表示しますか京都\n",
      "京都 のデータは 22 です\n"
     ]
    }
   ],
   "source": [
    "sale = {\"東京\":80, \"名古屋\":60, \"京都\":22, \"大阪\":50, \"福岡\":75}\n",
    "k = input(\"どの支店のデータを表示しますか\")\n",
    "print(k, \"のデータは\", sale[k], \"です\")"
   ]
  },
  {
   "cell_type": "code",
   "execution_count": 10,
   "metadata": {},
   "outputs": [
    {
     "name": "stdout",
     "output_type": "stream",
     "text": [
      "どの支店のデータを表示しますか青森\n",
      "青森 のデータは見つかりませんでした\n"
     ]
    }
   ],
   "source": [
    "sale = {\"東京\":80, \"名古屋\":60, \"京都\":22, \"大阪\":50, \"福岡\":75}\n",
    "k = input(\"どの支店のデータを表示しますか\")\n",
    "if k in sale:\n",
    "    print(k, \"のデータは\", sale[k], \"です\")\n",
    "else:\n",
    "    print(k, \"のデータは見つかりませんでした\")"
   ]
  },
  {
   "cell_type": "code",
   "execution_count": 16,
   "metadata": {},
   "outputs": [
    {
     "data": {
      "text/plain": [
       "[1, 2, 3, 4, 5]"
      ]
     },
     "execution_count": 16,
     "metadata": {},
     "output_type": "execute_result"
    }
   ],
   "source": [
    "data = [1, 2, 3, 4, 5]\n",
    "data"
   ]
  },
  {
   "cell_type": "markdown",
   "metadata": {},
   "source": [
    "# データが0や空であるかを調べる"
   ]
  },
  {
   "cell_type": "code",
   "execution_count": 26,
   "metadata": {},
   "outputs": [
    {
     "data": {
      "text/plain": [
       "True"
      ]
     },
     "execution_count": 26,
     "metadata": {},
     "output_type": "execute_result"
    }
   ],
   "source": [
    "any(data)"
   ]
  },
  {
   "cell_type": "code",
   "execution_count": 18,
   "metadata": {},
   "outputs": [
    {
     "data": {
      "text/plain": [
       "True"
      ]
     },
     "execution_count": 18,
     "metadata": {},
     "output_type": "execute_result"
    }
   ],
   "source": [
    "all(data)"
   ]
  },
  {
   "cell_type": "code",
   "execution_count": 19,
   "metadata": {},
   "outputs": [
    {
     "data": {
      "text/plain": [
       "False"
      ]
     },
     "execution_count": 19,
     "metadata": {},
     "output_type": "execute_result"
    }
   ],
   "source": [
    "data = [0, 1, 2, 3, 4, 5]\n",
    "all(data)"
   ]
  },
  {
   "cell_type": "code",
   "execution_count": 21,
   "metadata": {},
   "outputs": [
    {
     "data": {
      "text/plain": [
       "True"
      ]
     },
     "execution_count": 21,
     "metadata": {},
     "output_type": "execute_result"
    }
   ],
   "source": [
    "data = [0, 1, 2, 3, 4, 5]\n",
    "any(data)"
   ]
  },
  {
   "cell_type": "markdown",
   "metadata": {},
   "source": [
    "# ディクショナリを操作する"
   ]
  },
  {
   "cell_type": "code",
   "execution_count": 25,
   "metadata": {},
   "outputs": [
    {
     "name": "stdout",
     "output_type": "stream",
     "text": [
      "現在のデータは {'東京': 80, '名古屋': 60, '京都': 22, '大阪': 50, '福岡': 75} です\n",
      "追加するデータを入力してください京都\n",
      "京都 のデータはすでに存在しています\n",
      "現在のデータは 22 です\n",
      "どのキーのデータを変更しますか福岡\n",
      "福岡 のデータは 75 です\n",
      "dデータを入力してください62\n",
      "福岡 のデータは 75 です\n",
      "現在のデータは {'東京': 80, '名古屋': 60, '京都': 22, '大阪': 50, '福岡': 75} です\n",
      "どのキーのデータを削除しますか名古屋\n",
      "名古屋 のデータは 60 です\n",
      "データを削除しました\n",
      "現在のデータは {'東京': 80, '京都': 22, '大阪': 50, '福岡': 75} です\n"
     ]
    }
   ],
   "source": [
    "sale = {\"東京\":80, \"名古屋\":60, \"京都\":22, \"大阪\":50, \"福岡\":75}\n",
    "print(\"現在のデータは\", sale, \"です\")\n",
    "\n",
    "k = input(\"追加するデータを入力してください\")\n",
    "if k in sale:\n",
    "    print(k, \"のデータはすでに存在しています\")\n",
    "    \n",
    "else:\n",
    "    d = int(input(\"追加するデータを入力してください\"))\n",
    "    sale[k] = d\n",
    "    print(k, \"のデータとして\", sale[k], \"を追加しました\")\n",
    "print(\"現在のデータは\", sale[k], \"です\")\n",
    "\n",
    "k = input(\"どのキーのデータを変更しますか\")\n",
    "if k in sale:\n",
    "    print(k, \"のデータは\", sale[k], \"です\")\n",
    "    d = int(input(\"dデータを入力してください\"))\n",
    "    print(k, \"のデータは\", sale[k], \"です\")\n",
    "else:\n",
    "    print(\"現在のデータは見つかりませんでした\")\n",
    "print(\"現在のデータは\", sale, \"です\")\n",
    "\n",
    "k = input(\"どのキーのデータを削除しますか\")\n",
    "if k in sale:\n",
    "    print(k, \"のデータは\", sale[k], \"です\")\n",
    "    del sale[k]\n",
    "    print(\"データを削除しました\")\n",
    "else:\n",
    "    print(k, \"のデータは見つかりませんでした\")\n",
    "    \n",
    "print(\"現在のデータは\", sale, \"です\")"
   ]
  },
  {
   "cell_type": "code",
   "execution_count": 31,
   "metadata": {},
   "outputs": [
    {
     "name": "stdout",
     "output_type": "stream",
     "text": [
      "現在のデータは {'東京': 80, '名古屋': 60, '京都': 22, '大阪': 50, '福岡': 75} です\n",
      "キーを表示します\n",
      "東京\t名古屋\t京都\t大阪\t福岡\t\n",
      "値を表示します\n",
      "80\t60\t22\t50\t75\t\n",
      "キーの値を表示します\n",
      "('東京', 80)('名古屋', 60)('京都', 22)('大阪', 50)('福岡', 75)\n"
     ]
    }
   ],
   "source": [
    "sale = {\"東京\":80, \"名古屋\":60, \"京都\":22, \"大阪\":50, \"福岡\":75}\n",
    "print(\"現在のデータは\", sale, \"です\")\n",
    "\n",
    "print(\"キーを表示します\")\n",
    "for k in sale.keys():\n",
    "    print(k, end=\"\\t\")\n",
    "print()\n",
    "\n",
    "print(\"値を表示します\")\n",
    "for v in sale.values():\n",
    "    print(v, end=\"\\t\")\n",
    "print()\n",
    "\n",
    "print(\"キーの値を表示します\")\n",
    "\n",
    "for i in sale.items():\n",
    "    print(i, end=\"\")\n",
    "print()"
   ]
  },
  {
   "cell_type": "code",
   "execution_count": 50,
   "metadata": {},
   "outputs": [
    {
     "name": "stdout",
     "output_type": "stream",
     "text": [
      "1のデータは {'東京': 80, '名古屋': 60, '京都': 22} です\n",
      "2のデータは {'京都': 100, '大阪': 50, '福岡': 75} です\n",
      "1を2で変更します\n",
      "1のデータは {'東京': 80, '名古屋': 60, '京都': 100, '大阪': 50, '福岡': 75} です\n"
     ]
    }
   ],
   "source": [
    "sale1 = {\"東京\":80, \"名古屋\":60, \"京都\":22}\n",
    "sale2 = {\"京都\":100, \"大阪\":50, \"福岡\":75}\n",
    "\n",
    "print(\"1のデータは\", sale1, \"です\")\n",
    "print(\"2のデータは\", sale2, \"です\")\n",
    "\n",
    "print(\"1を2で変更します\")\n",
    "sale1.update(sale2)\n",
    "print(\"1のデータは\", sale1, \"です\")"
   ]
  },
  {
   "cell_type": "code",
   "execution_count": 52,
   "metadata": {},
   "outputs": [
    {
     "data": {
      "text/plain": [
       "defaultdict(list,\n",
       "            {'東京': [80], '名古屋': [60], '京都': [22, 100], '大阪': [50], '福岡': [75]})"
      ]
     },
     "execution_count": 52,
     "metadata": {},
     "output_type": "execute_result"
    }
   ],
   "source": [
    "d"
   ]
  },
  {
   "cell_type": "code",
   "execution_count": null,
   "metadata": {},
   "outputs": [],
   "source": [
    " \n",
    "from collections import defaultdict\n",
    "d = defaultdict(set)\n",
    " \n",
    "sale1 = {\"東京\":80, \"名古屋\":60, \"京都\":22}\n",
    "sale2 = {\"京都\":100, \"大阪\":50, \"福岡\":75}\n",
    " \n",
    "print(\"1のデータは\", sale1, \"です。\")\n",
    "print(\"2のデータは\", sale2, \"です。\")\n",
    " \n",
    "for k, v in sale1.items():\n",
    "    d[k].add(v)\n",
    " \n",
    "for k, v in sale2.items():\n",
    "    d[k].add(v)\n",
    " \n",
    "print(\"京都のデータは\", d['京都'], \"です。\")\n",
    " "
   ]
  },
  {
   "cell_type": "code",
   "execution_count": 53,
   "metadata": {},
   "outputs": [
    {
     "data": {
      "text/plain": [
       "defaultdict(list,\n",
       "            {'東京': [80], '名古屋': [60], '京都': [22, 100], '大阪': [50], '福岡': [75]})"
      ]
     },
     "execution_count": 53,
     "metadata": {},
     "output_type": "execute_result"
    }
   ],
   "source": [
    "d"
   ]
  },
  {
   "cell_type": "markdown",
   "metadata": {},
   "source": [
    "# その他のディクショナリの作成方法"
   ]
  },
  {
   "cell_type": "code",
   "execution_count": null,
   "metadata": {},
   "outputs": [],
   "source": []
  },
  {
   "cell_type": "code",
   "execution_count": 36,
   "metadata": {},
   "outputs": [
    {
     "data": {
      "text/plain": [
       "{'東京': 80, '名古屋': 60, '京都': 22, '大阪': 50, '福岡': 75}"
      ]
     },
     "execution_count": 36,
     "metadata": {},
     "output_type": "execute_result"
    }
   ],
   "source": [
    "sale = dict(東京=80, 名古屋=60, 京都=22, 大阪=50, 福岡=75)\n",
    "sale"
   ]
  },
  {
   "cell_type": "code",
   "execution_count": 45,
   "metadata": {},
   "outputs": [
    {
     "data": {
      "text/plain": [
       "tuple"
      ]
     },
     "execution_count": 45,
     "metadata": {},
     "output_type": "execute_result"
    }
   ],
   "source": [
    "t = tuple([80, 60, 20, 50, 70]) #リストからタプルを作る\n",
    "type(t)"
   ]
  },
  {
   "cell_type": "code",
   "execution_count": 44,
   "metadata": {},
   "outputs": [
    {
     "data": {
      "text/plain": [
       "dict"
      ]
     },
     "execution_count": 44,
     "metadata": {},
     "output_type": "execute_result"
    }
   ],
   "source": [
    "sale = dict(((\"東京\",80), (\"名古屋\",60), (\"京都\",22), (\"大阪\",50), (\"福岡\",75))) #\n",
    "type(sale)"
   ]
  },
  {
   "cell_type": "code",
   "execution_count": 46,
   "metadata": {},
   "outputs": [],
   "source": [
    "sale = dict({\"東京\":80, \"名古屋\":60, \"京都\":22, \"大阪\":50, \"福岡\":75}) #ディクショナリからディクショナリを作る"
   ]
  },
  {
   "cell_type": "code",
   "execution_count": null,
   "metadata": {},
   "outputs": [],
   "source": []
  }
 ],
 "metadata": {
  "kernelspec": {
   "display_name": "Python 3",
   "language": "python",
   "name": "python3"
  }
 },
 "nbformat": 4,
 "nbformat_minor": 4
}
