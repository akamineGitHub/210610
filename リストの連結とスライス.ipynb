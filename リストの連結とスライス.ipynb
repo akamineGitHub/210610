{
 "cells": [
  {
   "cell_type": "markdown",
   "metadata": {},
   "source": [
    "# リストの連結"
   ]
  },
  {
   "cell_type": "code",
   "execution_count": 1,
   "metadata": {},
   "outputs": [
    {
     "name": "stdout",
     "output_type": "stream",
     "text": [
      "上半期のデータは [1, 2, 3, 4, 5, 6] です\n",
      "下半期のデータは [7, 8, 9, 10, 11, 12] です\n",
      "年間のデータは [1, 2, 3, 4, 5, 6, 7, 8, 9, 10, 11, 12] です\n"
     ]
    }
   ],
   "source": [
    "sale1 = [1, 2, 3, 4, 5, 6]\n",
    "print(\"上半期のデータは\", sale1, \"です\")\n",
    "\n",
    "sale2 = [7, 8, 9, 10, 11, 12]\n",
    "print(\"下半期のデータは\", sale2, \"です\")\n",
    "\n",
    "ysale = sale1 + sale2\n",
    "\n",
    "print(\"年間のデータは\", ysale, \"です\")"
   ]
  },
  {
   "cell_type": "code",
   "execution_count": null,
   "metadata": {},
   "outputs": [],
   "source": []
  },
  {
   "cell_type": "markdown",
   "metadata": {},
   "source": [
    "# リストを拡張する extend()"
   ]
  },
  {
   "cell_type": "code",
   "execution_count": 2,
   "metadata": {},
   "outputs": [
    {
     "data": {
      "text/plain": [
       "[1, 2, 3, 4, 5, 6, 7, 8, 9, 10, 11, 12]"
      ]
     },
     "execution_count": 2,
     "metadata": {},
     "output_type": "execute_result"
    }
   ],
   "source": [
    "sale1 = [1, 2, 3, 4, 5, 6]\n",
    "sale2 = [7, 8, 9, 10, 11, 12]\n",
    "sale1.extend(sale2)\n",
    "sale1"
   ]
  },
  {
   "cell_type": "code",
   "execution_count": 3,
   "metadata": {},
   "outputs": [
    {
     "data": {
      "text/plain": [
       "[1, 2, 3, 4, 5, 6, 7, 8, 9, 10, 11, 12]"
      ]
     },
     "execution_count": 3,
     "metadata": {},
     "output_type": "execute_result"
    }
   ],
   "source": [
    "sale1 = [1, 2, 3, 4, 5, 6]\n",
    "sale2 = [7, 8, 9, 10, 11, 12]\n",
    "sale1+= sale2\n",
    "sale1"
   ]
  },
  {
   "cell_type": "code",
   "execution_count": 4,
   "metadata": {},
   "outputs": [
    {
     "data": {
      "text/plain": [
       "[1, 2, 3, 4, 5, 6, [7, 8, 9, 10, 11, 12]]"
      ]
     },
     "execution_count": 4,
     "metadata": {},
     "output_type": "execute_result"
    }
   ],
   "source": [
    "sale1 = [1, 2, 3, 4, 5, 6]\n",
    "sale2 = [7, 8, 9, 10, 11, 12]\n",
    "sale1.append(sale2)\n",
    "sale1"
   ]
  },
  {
   "cell_type": "code",
   "execution_count": 5,
   "metadata": {},
   "outputs": [
    {
     "data": {
      "text/plain": [
       "[7, 8, 9, 10, 11, 12]"
      ]
     },
     "execution_count": 5,
     "metadata": {},
     "output_type": "execute_result"
    }
   ],
   "source": [
    "sale1[6]"
   ]
  },
  {
   "cell_type": "markdown",
   "metadata": {},
   "source": [
    "# 機械学習のarray：ベクトル計算とは異なる"
   ]
  },
  {
   "cell_type": "code",
   "execution_count": 6,
   "metadata": {},
   "outputs": [
    {
     "data": {
      "text/plain": [
       "array([5, 7, 9])"
      ]
     },
     "execution_count": 6,
     "metadata": {},
     "output_type": "execute_result"
    }
   ],
   "source": [
    "import numpy as np\n",
    "a = np.array([1, 2, 3])\n",
    "b = np.array([4, 5, 6])\n",
    "a + b"
   ]
  },
  {
   "cell_type": "code",
   "execution_count": 7,
   "metadata": {},
   "outputs": [
    {
     "data": {
      "text/plain": [
       "[1, 2, 3, 4, 5, 6, 7, 8, 9, 10, 11, 12]"
      ]
     },
     "execution_count": 7,
     "metadata": {},
     "output_type": "execute_result"
    }
   ],
   "source": [
    "ysale"
   ]
  },
  {
   "cell_type": "markdown",
   "metadata": {},
   "source": [
    "# スライス"
   ]
  },
  {
   "cell_type": "code",
   "execution_count": 8,
   "metadata": {},
   "outputs": [
    {
     "data": {
      "text/plain": [
       "[1, 2, 3, 4, 5, 6]"
      ]
     },
     "execution_count": 8,
     "metadata": {},
     "output_type": "execute_result"
    }
   ],
   "source": [
    "# [開始: 停止: 間隔]\n",
    "ysale[0:6] #インデックスが0～5の要素を指定"
   ]
  },
  {
   "cell_type": "code",
   "execution_count": 9,
   "metadata": {},
   "outputs": [
    {
     "data": {
      "text/plain": [
       "[7, 8, 9, 10, 11, 12]"
      ]
     },
     "execution_count": 9,
     "metadata": {},
     "output_type": "execute_result"
    }
   ],
   "source": [
    "ysale[6:] # インデックスが6以降の要素の指定"
   ]
  },
  {
   "cell_type": "code",
   "execution_count": 10,
   "metadata": {},
   "outputs": [
    {
     "data": {
      "text/plain": [
       "[1, 3, 5, 7, 9, 11]"
      ]
     },
     "execution_count": 10,
     "metadata": {},
     "output_type": "execute_result"
    }
   ],
   "source": [
    "ysale[::2]"
   ]
  },
  {
   "cell_type": "code",
   "execution_count": 11,
   "metadata": {},
   "outputs": [
    {
     "data": {
      "text/plain": [
       "[12, 11, 10, 9, 8, 7, 6, 5, 4, 3, 2, 1]"
      ]
     },
     "execution_count": 11,
     "metadata": {},
     "output_type": "execute_result"
    }
   ],
   "source": [
    "ysale[::-1]"
   ]
  },
  {
   "cell_type": "code",
   "execution_count": 13,
   "metadata": {},
   "outputs": [
    {
     "name": "stdout",
     "output_type": "stream",
     "text": [
      "年間データは [1, 2, 3, 4, 5, 6, 7, 8, 9, 10, 11, 12] です\n",
      "上半期のデータは [1, 2, 3, 4, 5, 6] です\n",
      "下半期のデータは [7, 8, 9, 10, 11, 12] です\n",
      "1か月おきのデータは [1, 3, 5, 7, 9, 11] です\n",
      "逆順のデータは [12, 11, 10, 9, 8, 7, 6, 5, 4, 3, 2, 1] です\n",
      "年間データは [1, 2, 3, 4, 5, 6, 7, 8, 9, 10, 11, 12] です\n",
      "上半期のデータを差し替えます\n",
      "年間データは [0, 0, 0, 0, 0, 0, 7, 8, 9, 10, 11, 12] です\n"
     ]
    }
   ],
   "source": [
    "ysale = [1, 2, 3, 4, 5, 6, 7, 8, 9, 10, 11, 12]\n",
    "print(\"年間データは\", ysale, \"です\")\n",
    "\n",
    "sale1 = ysale[0:6]\n",
    "print(\"上半期のデータは\", sale1, \"です\")\n",
    "\n",
    "sale2 = ysale[6:]\n",
    "print(\"下半期のデータは\", sale2, \"です\")\n",
    "\n",
    "sale3 = ysale[::2]\n",
    "print(\"1か月おきのデータは\", sale3, \"です\")\n",
    "\n",
    "sale4 = ysale[::-1]\n",
    "print(\"逆順のデータは\", sale4, \"です\")\n",
    "\n",
    "print(\"年間データは\", ysale, \"です\")\n",
    "print(\"上半期のデータを差し替えます\")\n",
    "ysale[:6] = [0, 0, 0, 0, 0, 0]\n",
    "\n",
    "print(\"年間データは\", ysale,\"です\")"
   ]
  },
  {
   "cell_type": "code",
   "execution_count": 18,
   "metadata": {},
   "outputs": [
    {
     "name": "stdout",
     "output_type": "stream",
     "text": [
      "年間データは [1, 2, 3, 4, 5, 6, 7, 8, 9, 10, 11, 12] です\n",
      "年間データは [0, 0, 0, 0, 0, 0, 7, 8, 9, 10, 11, 12] です\n"
     ]
    }
   ],
   "source": [
    "ysale = list(range(1,13))\n",
    "print(\"年間データは\", ysale, \"です\")\n",
    "ysale[:6] = [0, 0, 0, 0, 0, 0]\n",
    "print(\"年間データは\", ysale, \"です\")"
   ]
  },
  {
   "cell_type": "markdown",
   "metadata": {},
   "source": [
    "# リストを逆順にする"
   ]
  },
  {
   "cell_type": "code",
   "execution_count": 21,
   "metadata": {},
   "outputs": [
    {
     "name": "stdout",
     "output_type": "stream",
     "text": [
      "現在のデータは [1, 2, 3, 4, 5] です\n",
      "data[::-1]をfor文で処理します\n",
      "5\n",
      "4\n",
      "3\n",
      "2\n",
      "1\n",
      "data[::-1]は [5, 4, 3, 2, 1] です\n",
      "現在のデータは [1, 2, 3, 4, 5] です\n",
      "reversed(data)をfor文で処理します\n",
      "5\n",
      "4\n",
      "3\n",
      "2\n",
      "1\n",
      "reversed(data)は <list_reverseiterator object at 0x7f66bc701a90> です\n",
      "現在のデータは [1, 2, 3, 4, 5] です\n",
      "data.reverse()を処理します\n",
      "現在のデータは [5, 4, 3, 2, 1] です\n"
     ]
    }
   ],
   "source": [
    "data = [1,2,3,4,5]\n",
    "print(\"現在のデータは\", data, \"です\")\n",
    "\n",
    "print(\"data[::-1]をfor文で処理します\")\n",
    "for d in data[::-1]:\n",
    "    print(d)\n",
    "print(\"data[::-1]は\", data[::-1], \"です\")　# 現在のデータは変更されない\n",
    "\n",
    "print(\"現在のデータは\", data, \"です\")\n",
    "print(\"reversed(data)をfor文で処理します\")\n",
    "for d in reversed(data):\n",
    "    print(d)\n",
    "print(\"reversed(data)は\", reversed(data), \"です\") # 現在のデータは変更されない\n",
    "\n",
    "print(\"現在のデータは\", data, \"です\")\n",
    "print(\"data.reverse()を処理します\")　\n",
    "data.reverse() #現在のデータ自体を逆順にする\n",
    "print(\"現在のデータは\", data, \"です\")"
   ]
  },
  {
   "cell_type": "markdown",
   "metadata": {},
   "source": [
    "# イテレータ　値を繰り返し順番に取り出す＊最後までいくとエラーになる"
   ]
  },
  {
   "cell_type": "code",
   "execution_count": 24,
   "metadata": {},
   "outputs": [],
   "source": [
    "data = [1,2,3,4,5]\n",
    "it = iter(data)"
   ]
  },
  {
   "cell_type": "code",
   "execution_count": 36,
   "metadata": {},
   "outputs": [
    {
     "ename": "StopIteration",
     "evalue": "",
     "output_type": "error",
     "traceback": [
      "\u001b[0;31m--------------------------------------------------------------------------\u001b[0m",
      "\u001b[0;31mStopIteration\u001b[0m                            Traceback (most recent call last)",
      "\u001b[0;32m<ipython-input-36-bc1ab118995a>\u001b[0m in \u001b[0;36m<module>\u001b[0;34m\u001b[0m\n\u001b[0;32m----> 1\u001b[0;31m \u001b[0mnext\u001b[0m\u001b[0;34m(\u001b[0m\u001b[0mit\u001b[0m\u001b[0;34m)\u001b[0m\u001b[0;34m\u001b[0m\u001b[0;34m\u001b[0m\u001b[0m\n\u001b[0m",
      "\u001b[0;31mStopIteration\u001b[0m: "
     ]
    }
   ],
   "source": [
    "next(it)"
   ]
  },
  {
   "cell_type": "code",
   "execution_count": 37,
   "metadata": {},
   "outputs": [],
   "source": [
    "rv =  reversed(data)"
   ]
  },
  {
   "cell_type": "code",
   "execution_count": 40,
   "metadata": {},
   "outputs": [
    {
     "data": {
      "text/plain": [
       "3"
      ]
     },
     "execution_count": 40,
     "metadata": {},
     "output_type": "execute_result"
    }
   ],
   "source": [
    "next(rv)"
   ]
  },
  {
   "cell_type": "markdown",
   "metadata": {},
   "source": [
    "# リストの要素の組み合わせ"
   ]
  },
  {
   "cell_type": "code",
   "execution_count": 41,
   "metadata": {},
   "outputs": [
    {
     "name": "stdout",
     "output_type": "stream",
     "text": [
      "都市データは ['東京', '名古屋', '大阪', '京都'] です\n",
      "売上データは [80, 60, 22, 50, 75] です\n",
      "データを組み込みます\n",
      "('東京', 80)\n",
      "('名古屋', 60)\n",
      "('大阪', 22)\n",
      "('京都', 50)\n",
      "データとインデックスを組み合わせます\n",
      "(0, '東京')\n",
      "(1, '名古屋')\n",
      "(2, '大阪')\n",
      "(3, '京都')\n"
     ]
    }
   ],
   "source": [
    "city = [\"東京\", \"名古屋\", \"大阪\", \"京都\"]\n",
    "sale = [80, 60, 22, 50, 75]\n",
    "\n",
    "print(\"都市データは\", city, \"です\")\n",
    "print(\"売上データは\", sale, \"です\")\n",
    "\n",
    "print(\"データを組み込みあわせます\")\n",
    "\n",
    "for d in zip(city, sale):\n",
    "    print(d)\n",
    "    \n",
    "print(\"データとインデックスを組み合わせます\")\n",
    "for d in enumerate(city):\n",
    "    print(d)"
   ]
  },
  {
   "cell_type": "code",
   "execution_count": 42,
   "metadata": {},
   "outputs": [
    {
     "data": {
      "text/plain": [
       "tuple"
      ]
     },
     "execution_count": 42,
     "metadata": {},
     "output_type": "execute_result"
    }
   ],
   "source": [
    "type(d)"
   ]
  },
  {
   "cell_type": "code",
   "execution_count": 45,
   "metadata": {},
   "outputs": [
    {
     "name": "stdout",
     "output_type": "stream",
     "text": [
      "都市データは ['東京', '名古屋', '大阪', '京都'] です\n",
      "売上データは [80, 60, 22, 50, 75] です\n",
      "データを組み込みあわせます\n",
      "('東京', 80)\n",
      "('名古屋', 60)\n",
      "('大阪', 22)\n",
      "('京都', 50)\n",
      "データを分解します\n",
      "都市名は 東京 売り上げは 80\n",
      "都市名は 名古屋 売り上げは 60\n",
      "都市名は 大阪 売り上げは 22\n",
      "都市名は 京都 売り上げは 50\n"
     ]
    }
   ],
   "source": [
    "city = [\"東京\", \"名古屋\", \"大阪\", \"京都\"]\n",
    "sale = [80, 60, 22, 50, 75]\n",
    "\n",
    "print(\"都市データは\", city, \"です\")\n",
    "print(\"売上データは\", sale, \"です\")\n",
    "\n",
    "print(\"データを組み込みあわせます\")\n",
    "\n",
    "for d in zip(city, sale):\n",
    "    print(d)\n",
    "    \n",
    "print(\"データを分解します\")\n",
    "for c, s in zip(city, sale):\n",
    "    print(\"都市名は\", c, \"売り上げは\", s)"
   ]
  },
  {
   "cell_type": "code",
   "execution_count": 46,
   "metadata": {},
   "outputs": [],
   "source": [
    "data =[1,2,3]\n",
    "d1, d2, d3 = data"
   ]
  },
  {
   "cell_type": "code",
   "execution_count": 3,
   "metadata": {},
   "outputs": [
    {
     "data": {
      "text/plain": [
       "1"
      ]
     },
     "execution_count": 3,
     "metadata": {},
     "output_type": "execute_result"
    }
   ],
   "source": [
    "data =[1,2,3]\n",
    "d1, d2, d3 = data\n",
    "d1"
   ]
  },
  {
   "cell_type": "code",
   "execution_count": 47,
   "metadata": {},
   "outputs": [
    {
     "data": {
      "text/plain": [
       "[1, 2, 3]"
      ]
     },
     "execution_count": 47,
     "metadata": {},
     "output_type": "execute_result"
    }
   ],
   "source": [
    "data "
   ]
  },
  {
   "cell_type": "code",
   "execution_count": 48,
   "metadata": {},
   "outputs": [],
   "source": [
    "d1, d2, d3 = 'a', 'b','c'"
   ]
  },
  {
   "cell_type": "code",
   "execution_count": 49,
   "metadata": {},
   "outputs": [
    {
     "name": "stdout",
     "output_type": "stream",
     "text": [
      "a b c\n"
     ]
    }
   ],
   "source": [
    "print(d1,d2,d3,)"
   ]
  },
  {
   "cell_type": "code",
   "execution_count": 6,
   "metadata": {},
   "outputs": [
    {
     "data": {
      "text/plain": [
       "'c'"
      ]
     },
     "execution_count": 6,
     "metadata": {},
     "output_type": "execute_result"
    }
   ],
   "source": [
    "d1, d2, d3 = 'a', 'b','c'\n",
    "d1\n",
    "d2\n",
    "d3"
   ]
  },
  {
   "cell_type": "code",
   "execution_count": 1,
   "metadata": {},
   "outputs": [
    {
     "ename": "TypeError",
     "evalue": "'list' object is not an iterator",
     "output_type": "error",
     "traceback": [
      "\u001b[0;31m---------------------------------------------------------------------------\u001b[0m",
      "\u001b[0;31mTypeError\u001b[0m                                 Traceback (most recent call last)",
      "\u001b[0;32m<ipython-input-1-713984d5f7f5>\u001b[0m in \u001b[0;36m<module>\u001b[0;34m\u001b[0m\n\u001b[1;32m      1\u001b[0m \u001b[0mdata\u001b[0m \u001b[0;34m=\u001b[0m\u001b[0;34m[\u001b[0m\u001b[0;36m1\u001b[0m\u001b[0;34m,\u001b[0m\u001b[0;36m2\u001b[0m\u001b[0;34m,\u001b[0m\u001b[0;36m3\u001b[0m\u001b[0;34m]\u001b[0m\u001b[0;34m\u001b[0m\u001b[0;34m\u001b[0m\u001b[0m\n\u001b[0;32m----> 2\u001b[0;31m \u001b[0mnext\u001b[0m\u001b[0;34m(\u001b[0m\u001b[0mdata\u001b[0m\u001b[0;34m)\u001b[0m\u001b[0;34m\u001b[0m\u001b[0;34m\u001b[0m\u001b[0m\n\u001b[0m",
      "\u001b[0;31mTypeError\u001b[0m: 'list' object is not an iterator"
     ]
    }
   ],
   "source": [
    "data =[1,2,3]\n",
    "next(data)"
   ]
  },
  {
   "cell_type": "code",
   "execution_count": null,
   "metadata": {},
   "outputs": [],
   "source": []
  }
 ],
 "metadata": {
  "kernelspec": {
   "display_name": "Python 3",
   "language": "python",
   "name": "python3"
  },
  "language_info": {
   "codemirror_mode": {
    "name": "ipython",
    "version": 3
   },
   "file_extension": ".py",
   "mimetype": "text/x-python",
   "name": "python",
   "nbconvert_exporter": "python",
   "pygments_lexer": "ipython3",
   "version": "3.6.10"
  }
 },
 "nbformat": 4,
 "nbformat_minor": 4
}
